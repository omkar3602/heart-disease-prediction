{
  "cells": [
    {
      "cell_type": "markdown",
      "metadata": {
        "id": "AvHEgAxTdpap"
      },
      "source": [
        "# Loading Data"
      ]
    },
    {
      "cell_type": "code",
      "execution_count": 3,
      "metadata": {
        "id": "VLM19WSgdpav"
      },
      "outputs": [],
      "source": [
        "import numpy as np\n",
        "import pandas as pd"
      ]
    },
    {
      "cell_type": "code",
      "execution_count": 4,
      "metadata": {
        "colab": {
          "base_uri": "https://localhost:8080/"
        },
        "id": "MJFlCrYveOgW",
        "outputId": "36967681-4c96-46d3-c7fe-1d5903e3689d"
      },
      "outputs": [],
      "source": [
        "# from google.colab import drive\n",
        "# drive.mount('/content/drive')"
      ]
    },
    {
      "cell_type": "code",
      "execution_count": 25,
      "metadata": {
        "id": "7WRLmljIdpaw"
      },
      "outputs": [],
      "source": [
        "# read from csv\n",
        "df = pd.read_csv('../data/processed_data.csv')\n",
        "# df = pd.read_csv('drive/MyDrive/data/heart-disease/processed_data.csv')"
      ]
    },
    {
      "cell_type": "code",
      "execution_count": 26,
      "metadata": {
        "colab": {
          "base_uri": "https://localhost:8080/",
          "height": 299
        },
        "id": "xoQMymPjdpax",
        "outputId": "c329e653-4848-4801-fa4c-056760463aec"
      },
      "outputs": [
        {
          "data": {
            "text/html": [
              "<div>\n",
              "<style scoped>\n",
              "    .dataframe tbody tr th:only-of-type {\n",
              "        vertical-align: middle;\n",
              "    }\n",
              "\n",
              "    .dataframe tbody tr th {\n",
              "        vertical-align: top;\n",
              "    }\n",
              "\n",
              "    .dataframe thead th {\n",
              "        text-align: right;\n",
              "    }\n",
              "</style>\n",
              "<table border=\"1\" class=\"dataframe\">\n",
              "  <thead>\n",
              "    <tr style=\"text-align: right;\">\n",
              "      <th></th>\n",
              "      <th>HeartDisease</th>\n",
              "      <th>BMI</th>\n",
              "      <th>Smoking</th>\n",
              "      <th>AlcoholDrinking</th>\n",
              "      <th>Stroke</th>\n",
              "      <th>PhysicalHealth</th>\n",
              "      <th>MentalHealth</th>\n",
              "      <th>DiffWalking</th>\n",
              "      <th>Sex</th>\n",
              "      <th>AgeCategory</th>\n",
              "      <th>...</th>\n",
              "      <th>SleepTime</th>\n",
              "      <th>Asthma</th>\n",
              "      <th>KidneyDisease</th>\n",
              "      <th>SkinCancer</th>\n",
              "      <th>0</th>\n",
              "      <th>1</th>\n",
              "      <th>2</th>\n",
              "      <th>3</th>\n",
              "      <th>4</th>\n",
              "      <th>5</th>\n",
              "    </tr>\n",
              "  </thead>\n",
              "  <tbody>\n",
              "    <tr>\n",
              "      <th>0</th>\n",
              "      <td>0</td>\n",
              "      <td>0.055294</td>\n",
              "      <td>1</td>\n",
              "      <td>0</td>\n",
              "      <td>0</td>\n",
              "      <td>0.100000</td>\n",
              "      <td>1.0</td>\n",
              "      <td>0</td>\n",
              "      <td>0</td>\n",
              "      <td>0.583333</td>\n",
              "      <td>...</td>\n",
              "      <td>0.173913</td>\n",
              "      <td>1</td>\n",
              "      <td>0</td>\n",
              "      <td>1</td>\n",
              "      <td>0.0</td>\n",
              "      <td>0.0</td>\n",
              "      <td>0.0</td>\n",
              "      <td>0.0</td>\n",
              "      <td>0.0</td>\n",
              "      <td>1.0</td>\n",
              "    </tr>\n",
              "    <tr>\n",
              "      <th>1</th>\n",
              "      <td>0</td>\n",
              "      <td>0.100447</td>\n",
              "      <td>0</td>\n",
              "      <td>0</td>\n",
              "      <td>1</td>\n",
              "      <td>0.000000</td>\n",
              "      <td>0.0</td>\n",
              "      <td>0</td>\n",
              "      <td>0</td>\n",
              "      <td>1.000000</td>\n",
              "      <td>...</td>\n",
              "      <td>0.260870</td>\n",
              "      <td>0</td>\n",
              "      <td>0</td>\n",
              "      <td>0</td>\n",
              "      <td>0.0</td>\n",
              "      <td>0.0</td>\n",
              "      <td>0.0</td>\n",
              "      <td>0.0</td>\n",
              "      <td>0.0</td>\n",
              "      <td>1.0</td>\n",
              "    </tr>\n",
              "    <tr>\n",
              "      <th>2</th>\n",
              "      <td>0</td>\n",
              "      <td>0.175782</td>\n",
              "      <td>1</td>\n",
              "      <td>0</td>\n",
              "      <td>0</td>\n",
              "      <td>0.666667</td>\n",
              "      <td>1.0</td>\n",
              "      <td>0</td>\n",
              "      <td>1</td>\n",
              "      <td>0.750000</td>\n",
              "      <td>...</td>\n",
              "      <td>0.304348</td>\n",
              "      <td>1</td>\n",
              "      <td>0</td>\n",
              "      <td>0</td>\n",
              "      <td>0.0</td>\n",
              "      <td>0.0</td>\n",
              "      <td>0.0</td>\n",
              "      <td>0.0</td>\n",
              "      <td>0.0</td>\n",
              "      <td>1.0</td>\n",
              "    </tr>\n",
              "    <tr>\n",
              "      <th>3</th>\n",
              "      <td>0</td>\n",
              "      <td>0.147169</td>\n",
              "      <td>0</td>\n",
              "      <td>0</td>\n",
              "      <td>0</td>\n",
              "      <td>0.000000</td>\n",
              "      <td>0.0</td>\n",
              "      <td>0</td>\n",
              "      <td>0</td>\n",
              "      <td>0.916667</td>\n",
              "      <td>...</td>\n",
              "      <td>0.217391</td>\n",
              "      <td>0</td>\n",
              "      <td>0</td>\n",
              "      <td>1</td>\n",
              "      <td>0.0</td>\n",
              "      <td>0.0</td>\n",
              "      <td>0.0</td>\n",
              "      <td>0.0</td>\n",
              "      <td>0.0</td>\n",
              "      <td>1.0</td>\n",
              "    </tr>\n",
              "    <tr>\n",
              "      <th>4</th>\n",
              "      <td>0</td>\n",
              "      <td>0.141132</td>\n",
              "      <td>0</td>\n",
              "      <td>0</td>\n",
              "      <td>0</td>\n",
              "      <td>0.933333</td>\n",
              "      <td>0.0</td>\n",
              "      <td>1</td>\n",
              "      <td>0</td>\n",
              "      <td>0.333333</td>\n",
              "      <td>...</td>\n",
              "      <td>0.304348</td>\n",
              "      <td>0</td>\n",
              "      <td>0</td>\n",
              "      <td>0</td>\n",
              "      <td>0.0</td>\n",
              "      <td>0.0</td>\n",
              "      <td>0.0</td>\n",
              "      <td>0.0</td>\n",
              "      <td>0.0</td>\n",
              "      <td>1.0</td>\n",
              "    </tr>\n",
              "  </tbody>\n",
              "</table>\n",
              "<p>5 rows × 23 columns</p>\n",
              "</div>"
            ],
            "text/plain": [
              "   HeartDisease       BMI  Smoking  AlcoholDrinking  Stroke  PhysicalHealth  \\\n",
              "0             0  0.055294        1                0       0        0.100000   \n",
              "1             0  0.100447        0                0       1        0.000000   \n",
              "2             0  0.175782        1                0       0        0.666667   \n",
              "3             0  0.147169        0                0       0        0.000000   \n",
              "4             0  0.141132        0                0       0        0.933333   \n",
              "\n",
              "   MentalHealth  DiffWalking  Sex  AgeCategory  ...  SleepTime  Asthma  \\\n",
              "0           1.0            0    0     0.583333  ...   0.173913       1   \n",
              "1           0.0            0    0     1.000000  ...   0.260870       0   \n",
              "2           1.0            0    1     0.750000  ...   0.304348       1   \n",
              "3           0.0            0    0     0.916667  ...   0.217391       0   \n",
              "4           0.0            1    0     0.333333  ...   0.304348       0   \n",
              "\n",
              "   KidneyDisease  SkinCancer    0    1    2    3    4    5  \n",
              "0              0           1  0.0  0.0  0.0  0.0  0.0  1.0  \n",
              "1              0           0  0.0  0.0  0.0  0.0  0.0  1.0  \n",
              "2              0           0  0.0  0.0  0.0  0.0  0.0  1.0  \n",
              "3              0           1  0.0  0.0  0.0  0.0  0.0  1.0  \n",
              "4              0           0  0.0  0.0  0.0  0.0  0.0  1.0  \n",
              "\n",
              "[5 rows x 23 columns]"
            ]
          },
          "execution_count": 26,
          "metadata": {},
          "output_type": "execute_result"
        }
      ],
      "source": [
        "df.head()"
      ]
    },
    {
      "cell_type": "markdown",
      "metadata": {
        "id": "pTV2eNJ1dpay"
      },
      "source": [
        "# Splitting the data"
      ]
    },
    {
      "cell_type": "code",
      "execution_count": 27,
      "metadata": {
        "id": "HkENgiWgdpay"
      },
      "outputs": [],
      "source": [
        "X = df.drop('HeartDisease', axis=1)\n",
        "y = df['HeartDisease']"
      ]
    },
    {
      "cell_type": "code",
      "execution_count": 28,
      "metadata": {
        "id": "d-f4l-Wtdpaz"
      },
      "outputs": [],
      "source": [
        "from sklearn.model_selection import train_test_split\n",
        "X_train, X_test, y_train, y_test = train_test_split(X, y, test_size = 0.30, random_state = 42)"
      ]
    },
    {
      "cell_type": "markdown",
      "metadata": {
        "id": "YGTsiGd3dpaz"
      },
      "source": [
        "# Training"
      ]
    },
    {
      "cell_type": "markdown",
      "metadata": {
        "id": "8HrzCzrLdpa0"
      },
      "source": [
        "### Utility function"
      ]
    },
    {
      "cell_type": "code",
      "execution_count": 7,
      "metadata": {
        "id": "DC6hQV_Rdpa0"
      },
      "outputs": [],
      "source": [
        "from sklearn.metrics import confusion_matrix, accuracy_score\n",
        "import pickle\n",
        "\n",
        "results = pd.DataFrame({\n",
        "    \"Model\": [],\n",
        "    \"Accuracy\":[]\n",
        "})\n",
        "\n",
        "def predict_and_save(model, X_test, y_test, modelname, results):\n",
        "    y_pred = model.predict(X_test)\n",
        "\n",
        "    cm = confusion_matrix(y_test, y_pred)\n",
        "    print(cm)\n",
        "\n",
        "    accuracy = accuracy_score(y_test, y_pred)\n",
        "    print(\"Accuracy:\", accuracy)\n",
        "\n",
        "    temp_df = pd.DataFrame({\n",
        "        \"Model\": [modelname],\n",
        "        \"Accuracy\":[accuracy]\n",
        "    })\n",
        "    results = pd.concat([results, temp_df], ignore_index = True)\n",
        "    results\n",
        "    \n",
        "    with open(f'models/{modelname}.pkl', 'wb') as f:\n",
        "    # with open(f'drive/MyDrive/data/heart-disease/models/{modelname}.pkl', 'wb') as f:\n",
        "        pickle.dump(model, f)\n",
        "\n",
        "    return results\n",
        "\n"
      ]
    },
    {
      "cell_type": "markdown",
      "metadata": {
        "id": "9ttMmNOEdpa1"
      },
      "source": [
        "### LogisticRegression"
      ]
    },
    {
      "cell_type": "code",
      "execution_count": 8,
      "metadata": {
        "colab": {
          "base_uri": "https://localhost:8080/"
        },
        "id": "a6qNzonEdpa1",
        "outputId": "8b7f9bb0-b2f8-4767-f6c4-c116aa9ed5c0"
      },
      "outputs": [
        {
          "data": {
            "text/plain": [
              "LogisticRegression()"
            ]
          },
          "execution_count": 8,
          "metadata": {},
          "output_type": "execute_result"
        }
      ],
      "source": [
        "from sklearn.linear_model import LogisticRegression\n",
        "\n",
        "model = LogisticRegression()\n",
        "model.fit(X_train, y_train)"
      ]
    },
    {
      "cell_type": "code",
      "execution_count": 9,
      "metadata": {
        "colab": {
          "base_uri": "https://localhost:8080/",
          "height": 135
        },
        "id": "fLzg9nW_dpa2",
        "outputId": "4cd0aeba-0009-403e-8db6-62fbd550c4a5"
      },
      "outputs": [
        {
          "name": "stdout",
          "output_type": "stream",
          "text": [
            "[[86864   785]\n",
            " [ 7428   862]]\n",
            "Accuracy: 0.9143935208830611\n"
          ]
        },
        {
          "data": {
            "text/html": [
              "<div>\n",
              "<style scoped>\n",
              "    .dataframe tbody tr th:only-of-type {\n",
              "        vertical-align: middle;\n",
              "    }\n",
              "\n",
              "    .dataframe tbody tr th {\n",
              "        vertical-align: top;\n",
              "    }\n",
              "\n",
              "    .dataframe thead th {\n",
              "        text-align: right;\n",
              "    }\n",
              "</style>\n",
              "<table border=\"1\" class=\"dataframe\">\n",
              "  <thead>\n",
              "    <tr style=\"text-align: right;\">\n",
              "      <th></th>\n",
              "      <th>Model</th>\n",
              "      <th>Accuracy</th>\n",
              "    </tr>\n",
              "  </thead>\n",
              "  <tbody>\n",
              "    <tr>\n",
              "      <th>0</th>\n",
              "      <td>Logistic_Regression</td>\n",
              "      <td>0.914394</td>\n",
              "    </tr>\n",
              "  </tbody>\n",
              "</table>\n",
              "</div>"
            ],
            "text/plain": [
              "                 Model  Accuracy\n",
              "0  Logistic_Regression  0.914394"
            ]
          },
          "execution_count": 9,
          "metadata": {},
          "output_type": "execute_result"
        }
      ],
      "source": [
        "results = predict_and_save(model, X_test, y_test, \"Logistic_Regression\", results)\n",
        "results"
      ]
    },
    {
      "cell_type": "markdown",
      "metadata": {
        "id": "_XwX_JXVdpa2"
      },
      "source": [
        "### SGDClassifier"
      ]
    },
    {
      "cell_type": "code",
      "execution_count": 10,
      "metadata": {
        "colab": {
          "base_uri": "https://localhost:8080/"
        },
        "id": "pqjK0VXudpa2",
        "outputId": "6bdb6543-56b7-4218-acbd-97bedd5a6779"
      },
      "outputs": [
        {
          "data": {
            "text/plain": [
              "SGDClassifier()"
            ]
          },
          "execution_count": 10,
          "metadata": {},
          "output_type": "execute_result"
        }
      ],
      "source": [
        "from sklearn.linear_model import SGDClassifier\n",
        "\n",
        "model = SGDClassifier()\n",
        "model.fit(X_train, y_train)"
      ]
    },
    {
      "cell_type": "code",
      "execution_count": 11,
      "metadata": {
        "colab": {
          "base_uri": "https://localhost:8080/",
          "height": 166
        },
        "id": "Bu9OhtU1dpa3",
        "outputId": "d90a39a6-a8ba-4d56-a410-796a5c46c81d"
      },
      "outputs": [
        {
          "name": "stdout",
          "output_type": "stream",
          "text": [
            "[[87649     0]\n",
            " [ 8290     0]]\n",
            "Accuracy: 0.9135909275685592\n"
          ]
        },
        {
          "data": {
            "text/html": [
              "<div>\n",
              "<style scoped>\n",
              "    .dataframe tbody tr th:only-of-type {\n",
              "        vertical-align: middle;\n",
              "    }\n",
              "\n",
              "    .dataframe tbody tr th {\n",
              "        vertical-align: top;\n",
              "    }\n",
              "\n",
              "    .dataframe thead th {\n",
              "        text-align: right;\n",
              "    }\n",
              "</style>\n",
              "<table border=\"1\" class=\"dataframe\">\n",
              "  <thead>\n",
              "    <tr style=\"text-align: right;\">\n",
              "      <th></th>\n",
              "      <th>Model</th>\n",
              "      <th>Accuracy</th>\n",
              "    </tr>\n",
              "  </thead>\n",
              "  <tbody>\n",
              "    <tr>\n",
              "      <th>0</th>\n",
              "      <td>Logistic_Regression</td>\n",
              "      <td>0.914394</td>\n",
              "    </tr>\n",
              "    <tr>\n",
              "      <th>1</th>\n",
              "      <td>SGD_Classifier</td>\n",
              "      <td>0.913591</td>\n",
              "    </tr>\n",
              "  </tbody>\n",
              "</table>\n",
              "</div>"
            ],
            "text/plain": [
              "                 Model  Accuracy\n",
              "0  Logistic_Regression  0.914394\n",
              "1       SGD_Classifier  0.913591"
            ]
          },
          "execution_count": 11,
          "metadata": {},
          "output_type": "execute_result"
        }
      ],
      "source": [
        "results = predict_and_save(model, X_test, y_test, \"SGD_Classifier\", results)\n",
        "results"
      ]
    },
    {
      "cell_type": "markdown",
      "metadata": {
        "id": "MafLoNaldpa3"
      },
      "source": [
        "### K-NN"
      ]
    },
    {
      "cell_type": "code",
      "execution_count": 12,
      "metadata": {
        "id": "YnXXdkdPjPGX"
      },
      "outputs": [],
      "source": [
        "# from sklearn.neighbors import KNeighborsClassifier\n",
        "\n",
        "# model = KNeighborsClassifier(n_neighbors=3)\n",
        "# model.fit(X_train, y_train)"
      ]
    },
    {
      "cell_type": "code",
      "execution_count": 13,
      "metadata": {
        "id": "nZ142A9qjR8G"
      },
      "outputs": [],
      "source": [
        "# results = predict_and_save(model, X_test, y_test, \"K-NN\", results)\n",
        "# results"
      ]
    },
    {
      "cell_type": "markdown",
      "metadata": {
        "id": "sEPReBXBdpa3"
      },
      "source": [
        "### Support Vector Machine (SVM)"
      ]
    },
    {
      "cell_type": "code",
      "execution_count": 14,
      "metadata": {
        "id": "ywfGvpklhyZ-"
      },
      "outputs": [],
      "source": [
        "# from sklearn.svm import SVC\n",
        "\n",
        "# model = SVC(kernel='poly', degree=3, coef0=1, C=5)\n",
        "# model.fit(X_train, y_train)"
      ]
    },
    {
      "cell_type": "code",
      "execution_count": 15,
      "metadata": {
        "id": "anFuR0Gtfr_7"
      },
      "outputs": [],
      "source": [
        "# results = predict_and_save(model, X_test, y_test, \"Support_Vector_Machine\", results)\n",
        "# results"
      ]
    },
    {
      "cell_type": "markdown",
      "metadata": {
        "id": "-nNYL7twdpa3"
      },
      "source": [
        "### GaussianNB (Naive Bayes)"
      ]
    },
    {
      "cell_type": "code",
      "execution_count": 16,
      "metadata": {
        "colab": {
          "base_uri": "https://localhost:8080/"
        },
        "id": "aNRTdmOYiaS_",
        "outputId": "a52d70ef-67ca-418d-a3c1-b000f65f3edd"
      },
      "outputs": [
        {
          "data": {
            "text/plain": [
              "GaussianNB()"
            ]
          },
          "execution_count": 16,
          "metadata": {},
          "output_type": "execute_result"
        }
      ],
      "source": [
        "from sklearn.naive_bayes import GaussianNB\n",
        "\n",
        "model = GaussianNB()\n",
        "model.fit(X_train, y_train)"
      ]
    },
    {
      "cell_type": "code",
      "execution_count": 17,
      "metadata": {
        "colab": {
          "base_uri": "https://localhost:8080/",
          "height": 198
        },
        "id": "FgTQtRgvii84",
        "outputId": "467a3449-e13a-470e-e90e-dbe2ed0a58b4"
      },
      "outputs": [
        {
          "name": "stdout",
          "output_type": "stream",
          "text": [
            "[[75667 11982]\n",
            " [ 4123  4167]]\n",
            "Accuracy: 0.8321329177915133\n"
          ]
        },
        {
          "data": {
            "text/html": [
              "<div>\n",
              "<style scoped>\n",
              "    .dataframe tbody tr th:only-of-type {\n",
              "        vertical-align: middle;\n",
              "    }\n",
              "\n",
              "    .dataframe tbody tr th {\n",
              "        vertical-align: top;\n",
              "    }\n",
              "\n",
              "    .dataframe thead th {\n",
              "        text-align: right;\n",
              "    }\n",
              "</style>\n",
              "<table border=\"1\" class=\"dataframe\">\n",
              "  <thead>\n",
              "    <tr style=\"text-align: right;\">\n",
              "      <th></th>\n",
              "      <th>Model</th>\n",
              "      <th>Accuracy</th>\n",
              "    </tr>\n",
              "  </thead>\n",
              "  <tbody>\n",
              "    <tr>\n",
              "      <th>0</th>\n",
              "      <td>Logistic_Regression</td>\n",
              "      <td>0.914394</td>\n",
              "    </tr>\n",
              "    <tr>\n",
              "      <th>1</th>\n",
              "      <td>SGD_Classifier</td>\n",
              "      <td>0.913591</td>\n",
              "    </tr>\n",
              "    <tr>\n",
              "      <th>2</th>\n",
              "      <td>Gaussian_NB</td>\n",
              "      <td>0.832133</td>\n",
              "    </tr>\n",
              "  </tbody>\n",
              "</table>\n",
              "</div>"
            ],
            "text/plain": [
              "                 Model  Accuracy\n",
              "0  Logistic_Regression  0.914394\n",
              "1       SGD_Classifier  0.913591\n",
              "2          Gaussian_NB  0.832133"
            ]
          },
          "execution_count": 17,
          "metadata": {},
          "output_type": "execute_result"
        }
      ],
      "source": [
        "results = predict_and_save(model, X_test, y_test, \"Gaussian_NB\", results)\n",
        "results"
      ]
    },
    {
      "cell_type": "markdown",
      "metadata": {
        "id": "tveaMZWndpa3"
      },
      "source": [
        "### Decision Tree Classifier"
      ]
    },
    {
      "cell_type": "code",
      "execution_count": 18,
      "metadata": {
        "colab": {
          "base_uri": "https://localhost:8080/"
        },
        "id": "NqBpFYz1dpa4",
        "outputId": "f337cafb-2103-41a0-ed5a-f86c0e41ca8f"
      },
      "outputs": [
        {
          "data": {
            "text/plain": [
              "DecisionTreeClassifier(max_depth=10)"
            ]
          },
          "execution_count": 18,
          "metadata": {},
          "output_type": "execute_result"
        }
      ],
      "source": [
        "from sklearn.tree import DecisionTreeClassifier\n",
        "\n",
        "model = DecisionTreeClassifier(max_depth=10)\n",
        "model.fit(X_train, y_train)"
      ]
    },
    {
      "cell_type": "code",
      "execution_count": 19,
      "metadata": {
        "colab": {
          "base_uri": "https://localhost:8080/",
          "height": 229
        },
        "id": "SjLrojl9dpa5",
        "outputId": "ecd32b63-cdd8-420b-bb42-fcdca1606120"
      },
      "outputs": [
        {
          "name": "stdout",
          "output_type": "stream",
          "text": [
            "[[86785   864]\n",
            " [ 7543   747]]\n",
            "Accuracy: 0.9123714026621083\n"
          ]
        },
        {
          "data": {
            "text/html": [
              "<div>\n",
              "<style scoped>\n",
              "    .dataframe tbody tr th:only-of-type {\n",
              "        vertical-align: middle;\n",
              "    }\n",
              "\n",
              "    .dataframe tbody tr th {\n",
              "        vertical-align: top;\n",
              "    }\n",
              "\n",
              "    .dataframe thead th {\n",
              "        text-align: right;\n",
              "    }\n",
              "</style>\n",
              "<table border=\"1\" class=\"dataframe\">\n",
              "  <thead>\n",
              "    <tr style=\"text-align: right;\">\n",
              "      <th></th>\n",
              "      <th>Model</th>\n",
              "      <th>Accuracy</th>\n",
              "    </tr>\n",
              "  </thead>\n",
              "  <tbody>\n",
              "    <tr>\n",
              "      <th>0</th>\n",
              "      <td>Logistic_Regression</td>\n",
              "      <td>0.914394</td>\n",
              "    </tr>\n",
              "    <tr>\n",
              "      <th>1</th>\n",
              "      <td>SGD_Classifier</td>\n",
              "      <td>0.913591</td>\n",
              "    </tr>\n",
              "    <tr>\n",
              "      <th>2</th>\n",
              "      <td>Gaussian_NB</td>\n",
              "      <td>0.832133</td>\n",
              "    </tr>\n",
              "    <tr>\n",
              "      <th>3</th>\n",
              "      <td>Decision_Tree_Classifier</td>\n",
              "      <td>0.912371</td>\n",
              "    </tr>\n",
              "  </tbody>\n",
              "</table>\n",
              "</div>"
            ],
            "text/plain": [
              "                      Model  Accuracy\n",
              "0       Logistic_Regression  0.914394\n",
              "1            SGD_Classifier  0.913591\n",
              "2               Gaussian_NB  0.832133\n",
              "3  Decision_Tree_Classifier  0.912371"
            ]
          },
          "execution_count": 19,
          "metadata": {},
          "output_type": "execute_result"
        }
      ],
      "source": [
        "results = predict_and_save(model, X_test, y_test, \"Decision_Tree_Classifier\", results)\n",
        "results"
      ]
    },
    {
      "cell_type": "markdown",
      "metadata": {
        "id": "KWwOgCmhdpa5"
      },
      "source": [
        "### Random Forest Classifier"
      ]
    },
    {
      "cell_type": "code",
      "execution_count": 20,
      "metadata": {
        "colab": {
          "base_uri": "https://localhost:8080/"
        },
        "id": "U4VJWIvzjZfS",
        "outputId": "bcc649c4-bcaa-4818-ca36-5d5549c960c3"
      },
      "outputs": [
        {
          "data": {
            "text/plain": [
              "RandomForestClassifier()"
            ]
          },
          "execution_count": 20,
          "metadata": {},
          "output_type": "execute_result"
        }
      ],
      "source": [
        "from sklearn.ensemble import RandomForestClassifier\n",
        "\n",
        "model = RandomForestClassifier(n_estimators = 100) \n",
        "model.fit(X_train, y_train)"
      ]
    },
    {
      "cell_type": "code",
      "execution_count": 21,
      "metadata": {
        "colab": {
          "base_uri": "https://localhost:8080/",
          "height": 261
        },
        "id": "AAuBBTo4joPR",
        "outputId": "8ee3113c-4dcf-4001-a47b-912b474a01c4"
      },
      "outputs": [
        {
          "name": "stdout",
          "output_type": "stream",
          "text": [
            "[[85855  1794]\n",
            " [ 7328   962]]\n",
            "Accuracy: 0.9049187504560189\n"
          ]
        },
        {
          "data": {
            "text/html": [
              "<div>\n",
              "<style scoped>\n",
              "    .dataframe tbody tr th:only-of-type {\n",
              "        vertical-align: middle;\n",
              "    }\n",
              "\n",
              "    .dataframe tbody tr th {\n",
              "        vertical-align: top;\n",
              "    }\n",
              "\n",
              "    .dataframe thead th {\n",
              "        text-align: right;\n",
              "    }\n",
              "</style>\n",
              "<table border=\"1\" class=\"dataframe\">\n",
              "  <thead>\n",
              "    <tr style=\"text-align: right;\">\n",
              "      <th></th>\n",
              "      <th>Model</th>\n",
              "      <th>Accuracy</th>\n",
              "    </tr>\n",
              "  </thead>\n",
              "  <tbody>\n",
              "    <tr>\n",
              "      <th>0</th>\n",
              "      <td>Logistic_Regression</td>\n",
              "      <td>0.914394</td>\n",
              "    </tr>\n",
              "    <tr>\n",
              "      <th>1</th>\n",
              "      <td>SGD_Classifier</td>\n",
              "      <td>0.913591</td>\n",
              "    </tr>\n",
              "    <tr>\n",
              "      <th>2</th>\n",
              "      <td>Gaussian_NB</td>\n",
              "      <td>0.832133</td>\n",
              "    </tr>\n",
              "    <tr>\n",
              "      <th>3</th>\n",
              "      <td>Decision_Tree_Classifier</td>\n",
              "      <td>0.912371</td>\n",
              "    </tr>\n",
              "    <tr>\n",
              "      <th>4</th>\n",
              "      <td>Random_Forest_Classifier</td>\n",
              "      <td>0.904919</td>\n",
              "    </tr>\n",
              "  </tbody>\n",
              "</table>\n",
              "</div>"
            ],
            "text/plain": [
              "                      Model  Accuracy\n",
              "0       Logistic_Regression  0.914394\n",
              "1            SGD_Classifier  0.913591\n",
              "2               Gaussian_NB  0.832133\n",
              "3  Decision_Tree_Classifier  0.912371\n",
              "4  Random_Forest_Classifier  0.904919"
            ]
          },
          "execution_count": 21,
          "metadata": {},
          "output_type": "execute_result"
        }
      ],
      "source": [
        "results = predict_and_save(model, X_test, y_test, \"Random_Forest_Classifier\", results)\n",
        "results"
      ]
    },
    {
      "cell_type": "markdown",
      "metadata": {
        "id": "htUi6Gf0dpa5"
      },
      "source": [
        "### Artifical Neural Network (ANN)"
      ]
    },
    {
      "cell_type": "code",
      "execution_count": 22,
      "metadata": {
        "id": "7_K1abfIqeGf"
      },
      "outputs": [],
      "source": [
        "X_train = np.array(X_train)\n",
        "X_test = np.array(X_test)\n",
        "\n",
        "y_train = np.array(y_train)\n",
        "y_test = np.array(y_test)"
      ]
    },
    {
      "cell_type": "code",
      "execution_count": 23,
      "metadata": {
        "colab": {
          "base_uri": "https://localhost:8080/"
        },
        "id": "j2TX5M2CkI5E",
        "outputId": "4645c99d-40eb-45b2-befb-d3c25a356ec9"
      },
      "outputs": [
        {
          "name": "stdout",
          "output_type": "stream",
          "text": [
            "Model: \"sequential\"\n",
            "_________________________________________________________________\n",
            " Layer (type)                Output Shape              Param #   \n",
            "=================================================================\n",
            " dense (Dense)               (None, 22)                506       \n",
            "                                                                 \n",
            " dense_1 (Dense)             (None, 32)                736       \n",
            "                                                                 \n",
            " dense_2 (Dense)             (None, 64)                2112      \n",
            "                                                                 \n",
            " dense_3 (Dense)             (None, 1)                 65        \n",
            "                                                                 \n",
            "=================================================================\n",
            "Total params: 3,419\n",
            "Trainable params: 3,419\n",
            "Non-trainable params: 0\n",
            "_________________________________________________________________\n"
          ]
        }
      ],
      "source": [
        "from tensorflow.keras.models import Sequential\n",
        "from tensorflow.keras.layers import Dense\n",
        "\n",
        "model = Sequential()\n",
        "\n",
        "model.add(Dense(units=X_train.shape[-1], input_shape=(X_train.shape[-1],), activation=\"relu\"))\n",
        "\n",
        "model.add(Dense(units=32, activation=\"relu\"))\n",
        "model.add(Dense(units=64, activation=\"relu\"))\n",
        "\n",
        "model.add(Dense(units=1, activation=\"sigmoid\"))\n",
        "\n",
        "model.compile(optimizer=\"adam\",loss=\"binary_crossentropy\",metrics=['accuracy'])\n",
        "model.build()\n",
        "\n",
        "model.summary()"
      ]
    },
    {
      "cell_type": "code",
      "execution_count": 24,
      "metadata": {
        "id": "Da_XcY_omReV"
      },
      "outputs": [],
      "source": [
        "X_train, X_valid, y_train, y_valid = train_test_split(X_train, y_train, test_size=0.2)"
      ]
    },
    {
      "cell_type": "code",
      "execution_count": 25,
      "metadata": {
        "colab": {
          "base_uri": "https://localhost:8080/"
        },
        "id": "ClynPR6Xkg_f",
        "outputId": "daba79d0-a5ac-4b25-b5a4-7488eedcad45"
      },
      "outputs": [
        {
          "name": "stdout",
          "output_type": "stream",
          "text": [
            "Epoch 1/10\n",
            "5597/5597 - 7s - loss: 0.2323 - accuracy: 0.9158 - val_loss: 0.2241 - val_accuracy: 0.9159 - 7s/epoch - 1ms/step\n",
            "Epoch 2/10\n",
            "5597/5597 - 6s - loss: 0.2257 - accuracy: 0.9165 - val_loss: 0.2251 - val_accuracy: 0.9164 - 6s/epoch - 1ms/step\n",
            "Epoch 3/10\n",
            "5597/5597 - 6s - loss: 0.2255 - accuracy: 0.9168 - val_loss: 0.2232 - val_accuracy: 0.9159 - 6s/epoch - 1ms/step\n",
            "Epoch 4/10\n",
            "5597/5597 - 8s - loss: 0.2250 - accuracy: 0.9165 - val_loss: 0.2237 - val_accuracy: 0.9164 - 8s/epoch - 1ms/step\n",
            "Epoch 5/10\n",
            "5597/5597 - 6s - loss: 0.2248 - accuracy: 0.9165 - val_loss: 0.2247 - val_accuracy: 0.9161 - 6s/epoch - 1ms/step\n",
            "Epoch 6/10\n",
            "5597/5597 - 6s - loss: 0.2247 - accuracy: 0.9165 - val_loss: 0.2240 - val_accuracy: 0.9160 - 6s/epoch - 1ms/step\n",
            "Epoch 7/10\n",
            "5597/5597 - 6s - loss: 0.2244 - accuracy: 0.9169 - val_loss: 0.2233 - val_accuracy: 0.9165 - 6s/epoch - 1ms/step\n",
            "Epoch 8/10\n",
            "5597/5597 - 6s - loss: 0.2243 - accuracy: 0.9168 - val_loss: 0.2228 - val_accuracy: 0.9163 - 6s/epoch - 1ms/step\n",
            "Epoch 9/10\n",
            "5597/5597 - 6s - loss: 0.2242 - accuracy: 0.9168 - val_loss: 0.2240 - val_accuracy: 0.9164 - 6s/epoch - 1ms/step\n",
            "Epoch 10/10\n",
            "5597/5597 - 6s - loss: 0.2241 - accuracy: 0.9167 - val_loss: 0.2240 - val_accuracy: 0.9164 - 6s/epoch - 1ms/step\n"
          ]
        }
      ],
      "source": [
        "history = model.fit(X_train, y_train, batch_size=32, epochs = 10, validation_data=(X_valid, y_valid), verbose=2)"
      ]
    },
    {
      "cell_type": "code",
      "execution_count": 26,
      "metadata": {
        "colab": {
          "base_uri": "https://localhost:8080/"
        },
        "id": "ToX3ntVwocxK",
        "outputId": "9ff5e7ff-2174-47b6-a39c-a9ff8905648e"
      },
      "outputs": [
        {
          "name": "stdout",
          "output_type": "stream",
          "text": [
            "[[87139   510]\n",
            " [ 7658   632]]\n",
            "2999/2999 [==============================] - 3s 886us/step - loss: 0.2294 - accuracy: 0.9149\n",
            "Accuracy: 0.9148625731468201\n",
            "                      Model  Accuracy\n",
            "0       Logistic_Regression  0.914394\n",
            "1            SGD_Classifier  0.913591\n",
            "2               Gaussian_NB  0.832133\n",
            "3  Decision_Tree_Classifier  0.912371\n",
            "4  Random_Forest_Classifier  0.904919\n",
            "5                       ANN  0.914863\n"
          ]
        }
      ],
      "source": [
        "y_pred = model.predict(X_test)\n",
        "y_pred = (y_pred > 0.5)\n",
        "\n",
        "cm = confusion_matrix(y_test, y_pred)\n",
        "print(cm)\n",
        "\n",
        "accuracy = model.evaluate(X_test, y_test)[-1]\n",
        "print(\"Accuracy:\", accuracy)\n",
        "\n",
        "temp_df = pd.DataFrame({\n",
        "        \"Model\": [\"ANN\"],\n",
        "        \"Accuracy\":[accuracy]\n",
        "    })\n",
        "\n",
        "model.save(f'models/{\"ANN\"}.h5')\n",
        "# model.save(f'drive/MyDrive/data/heart-disease/models/{\"ANN\"}.h5')\n",
        "\n",
        "results = pd.concat([results, temp_df], ignore_index = True)\n",
        "print(results)"
      ]
    },
    {
      "cell_type": "markdown",
      "metadata": {
        "id": "AEUHDaogt5yl"
      },
      "source": [
        "#### Save the results"
      ]
    },
    {
      "cell_type": "code",
      "execution_count": 27,
      "metadata": {
        "id": "NuJB3Dtit5Iy"
      },
      "outputs": [],
      "source": [
        "import pickle\n",
        "\n",
        "with open(f'models/results.pkl', 'wb') as f:\n",
        "# with open(f'drive/MyDrive/data/heart-disease/models/results.pkl', 'wb') as f:\n",
        "        pickle.dump(results, f)"
      ]
    }
  ],
  "metadata": {
    "colab": {
      "collapsed_sections": [],
      "name": "heart-disease Training.ipynb",
      "provenance": []
    },
    "interpreter": {
      "hash": "f507979fbbadbb87ffb64bd5a5dedefe97bceb4da6a0848a7923fb69079d45ee"
    },
    "kernelspec": {
      "display_name": "Python 3.9.5 64-bit",
      "language": "python",
      "name": "python3"
    },
    "language_info": {
      "codemirror_mode": {
        "name": "ipython",
        "version": 3
      },
      "file_extension": ".py",
      "mimetype": "text/x-python",
      "name": "python",
      "nbconvert_exporter": "python",
      "pygments_lexer": "ipython3",
      "version": "3.9.5"
    },
    "orig_nbformat": 4
  },
  "nbformat": 4,
  "nbformat_minor": 0
}
